{
 "cells": [
  {
   "cell_type": "markdown",
   "id": "dried-sacramento",
   "metadata": {},
   "source": [
    "# Strings, Lists and Tuples"
   ]
  },
  {
   "cell_type": "code",
   "execution_count": null,
   "id": "supreme-plaintiff",
   "metadata": {},
   "outputs": [],
   "source": []
  },
  {
   "cell_type": "markdown",
   "id": "experienced-least",
   "metadata": {},
   "source": [
    "# Dictionaries and Sets"
   ]
  },
  {
   "cell_type": "code",
   "execution_count": null,
   "id": "consecutive-discipline",
   "metadata": {},
   "outputs": [],
   "source": []
  },
  {
   "cell_type": "markdown",
   "id": "protected-inquiry",
   "metadata": {},
   "source": [
    "# Conditional Execution & Loops"
   ]
  },
  {
   "cell_type": "code",
   "execution_count": null,
   "id": "objective-paint",
   "metadata": {},
   "outputs": [],
   "source": []
  },
  {
   "cell_type": "markdown",
   "id": "detailed-concert",
   "metadata": {},
   "source": [
    "# Comprehensions"
   ]
  },
  {
   "cell_type": "code",
   "execution_count": null,
   "id": "hairy-insured",
   "metadata": {},
   "outputs": [],
   "source": []
  },
  {
   "cell_type": "markdown",
   "id": "surprising-waters",
   "metadata": {},
   "source": [
    "# Functions"
   ]
  },
  {
   "cell_type": "code",
   "execution_count": 2,
   "id": "straight-faith",
   "metadata": {},
   "outputs": [
    {
     "name": "stdout",
     "output_type": "stream",
     "text": [
      "The arguments should match: 1 == 1 and 2 == 2\n"
     ]
    }
   ],
   "source": [
    "## Positional arguments\n",
    "\n",
    "def only_positional(a, b):\n",
    "    return a,b\n",
    "\n",
    "a, b = only_positional(1, 2)\n",
    "\n",
    "print(\"The arguments should match: 1 == {} and 2 == {}\".format(a,b))"
   ]
  },
  {
   "cell_type": "code",
   "execution_count": 4,
   "id": "latest-seattle",
   "metadata": {},
   "outputs": [
    {
     "name": "stdout",
     "output_type": "stream",
     "text": [
      "The arguments should match: 1 == 1 and 2 == 2\n"
     ]
    }
   ],
   "source": [
    "## Optional arguments\n",
    "\n",
    "def positional_optional(a, b=2):\n",
    "    return a,b\n",
    "\n",
    "a, b = positional_optional(1)\n",
    "\n",
    "print(\"The arguments should match: 1 == {} and 2 == {}\".format(a,b))"
   ]
  },
  {
   "cell_type": "code",
   "execution_count": 5,
   "id": "single-lover",
   "metadata": {},
   "outputs": [
    {
     "name": "stdout",
     "output_type": "stream",
     "text": [
      "The arguments should match: 1 == 1 and 3 == 3\n"
     ]
    }
   ],
   "source": [
    "## Optional arguments\n",
    "\n",
    "def positional_optional(a, b=3):\n",
    "    return a,b\n",
    "\n",
    "a, b = positional_optional(1, b=3)\n",
    "\n",
    "print(\"The arguments should match: 1 == {} and 3 == {}\".format(a,b))"
   ]
  },
  {
   "cell_type": "markdown",
   "id": "important-offer",
   "metadata": {},
   "source": [
    "# Modules"
   ]
  },
  {
   "cell_type": "code",
   "execution_count": null,
   "id": "romance-scenario",
   "metadata": {},
   "outputs": [],
   "source": []
  },
  {
   "cell_type": "markdown",
   "id": "pursuant-boring",
   "metadata": {},
   "source": [
    "# Scopes and Namespaces"
   ]
  },
  {
   "cell_type": "code",
   "execution_count": null,
   "id": "backed-makeup",
   "metadata": {},
   "outputs": [],
   "source": []
  }
 ],
 "metadata": {
  "jupytext": {
   "formats": "ipynb,Rmd"
  },
  "kernelspec": {
   "display_name": "Python 3",
   "language": "python",
   "name": "python3"
  },
  "language_info": {
   "codemirror_mode": {
    "name": "ipython",
    "version": 3
   },
   "file_extension": ".py",
   "mimetype": "text/x-python",
   "name": "python",
   "nbconvert_exporter": "python",
   "pygments_lexer": "ipython3",
   "version": "3.8.5"
  }
 },
 "nbformat": 4,
 "nbformat_minor": 5
}
