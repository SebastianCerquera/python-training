{
 "cells": [
  {
   "cell_type": "markdown",
   "id": "dried-sacramento",
   "metadata": {},
   "source": [
    "# Strings, Lists and Tuples"
   ]
  },
  {
   "cell_type": "code",
   "execution_count": null,
   "id": "supreme-plaintiff",
   "metadata": {},
   "outputs": [],
   "source": []
  },
  {
   "cell_type": "markdown",
   "id": "experienced-least",
   "metadata": {},
   "source": [
    "# Dictionaries and Sets\n",
    "\n",
    "https://realpython.com/python-sets/\n",
    "\n",
    "- Sets are unordered\n",
    "- Elements are uniq\n",
    "- Elements should be inmutable"
   ]
  },
  {
   "cell_type": "code",
   "execution_count": 11,
   "id": "divided-yukon",
   "metadata": {},
   "outputs": [
    {
     "data": {
      "text/plain": [
       "{2, 4, 5, 6, 8, 10}"
      ]
     },
     "execution_count": 11,
     "metadata": {},
     "output_type": "execute_result"
    }
   ],
   "source": [
    "## The insertion order in sets is not preserved, it orders the elements to easily check for duplicates.\n",
    "\n",
    "ordered_set = set(range(10, 0, -2))\n",
    "ordered_set.add(5)\n",
    "ordered_set"
   ]
  },
  {
   "cell_type": "code",
   "execution_count": 13,
   "id": "consecutive-discipline",
   "metadata": {},
   "outputs": [
    {
     "data": {
      "text/plain": [
       "{2, 4, 5, 6, 8, 10}"
      ]
     },
     "execution_count": 13,
     "metadata": {},
     "output_type": "execute_result"
    }
   ],
   "source": [
    "## It doesn't fail when we insert a duplicated element.\n",
    "\n",
    "ordered_set.add(5)\n",
    "ordered_set"
   ]
  },
  {
   "cell_type": "code",
   "execution_count": 35,
   "id": "vulnerable-demand",
   "metadata": {},
   "outputs": [],
   "source": [
    "## The elements contained by the set should be inmutable.\n",
    "\n",
    "### I am trying to reproduce this behaviours without success. \n",
    "\n",
    "### I think that I need to understand how the implementation is hashing the object, \n",
    "### it should break if the hash changes.\n",
    "class TestElement:\n",
    "    \n",
    "    def __init__(self, value):\n",
    "        self.a = value\n",
    "\n",
    "original_elements = []\n",
    "mutable_set = set([])\n",
    "\n",
    "for i in range(10):\n",
    "    el = TestElement(i)\n",
    "    original_elements.append(el)\n",
    "    mutable_set.add(el)\n",
    "    \n",
    "for el in original_elements:\n",
    "    el.a = el.a + 1"
   ]
  },
  {
   "cell_type": "markdown",
   "id": "every-genius",
   "metadata": {},
   "source": [
    "## Set operations"
   ]
  },
  {
   "cell_type": "markdown",
   "id": "protected-inquiry",
   "metadata": {},
   "source": [
    "# Conditional Execution & Loops"
   ]
  },
  {
   "cell_type": "code",
   "execution_count": null,
   "id": "objective-paint",
   "metadata": {},
   "outputs": [],
   "source": []
  },
  {
   "cell_type": "markdown",
   "id": "detailed-concert",
   "metadata": {},
   "source": [
    "# Comprehensions"
   ]
  },
  {
   "cell_type": "code",
   "execution_count": null,
   "id": "hairy-insured",
   "metadata": {},
   "outputs": [],
   "source": []
  },
  {
   "cell_type": "markdown",
   "id": "surprising-waters",
   "metadata": {},
   "source": [
    "# Functions"
   ]
  },
  {
   "cell_type": "code",
   "execution_count": null,
   "id": "straight-faith",
   "metadata": {},
   "outputs": [],
   "source": [
    "## Positional arguments"
   ]
  },
  {
   "cell_type": "code",
   "execution_count": null,
   "id": "incoming-while",
   "metadata": {},
   "outputs": [],
   "source": [
    "## Optional arguments"
   ]
  },
  {
   "cell_type": "markdown",
   "id": "important-offer",
   "metadata": {},
   "source": [
    "# Modules"
   ]
  },
  {
   "cell_type": "code",
   "execution_count": null,
   "id": "romance-scenario",
   "metadata": {},
   "outputs": [],
   "source": []
  },
  {
   "cell_type": "markdown",
   "id": "pursuant-boring",
   "metadata": {},
   "source": [
    "# Scopes and Namespaces"
   ]
  },
  {
   "cell_type": "code",
   "execution_count": null,
   "id": "backed-makeup",
   "metadata": {},
   "outputs": [],
   "source": []
  }
 ],
 "metadata": {
  "jupytext": {
   "formats": "ipynb,Rmd"
  },
  "kernelspec": {
   "display_name": "Python 3",
   "language": "python",
   "name": "python3"
  },
  "language_info": {
   "codemirror_mode": {
    "name": "ipython",
    "version": 3
   },
   "file_extension": ".py",
   "mimetype": "text/x-python",
   "name": "python",
   "nbconvert_exporter": "python",
   "pygments_lexer": "ipython3",
   "version": "3.8.5"
  }
 },
 "nbformat": 4,
 "nbformat_minor": 5
}
