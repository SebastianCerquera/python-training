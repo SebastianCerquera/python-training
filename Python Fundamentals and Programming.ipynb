{
 "cells": [
  {
   "cell_type": "markdown",
   "id": "dried-sacramento",
   "metadata": {},
   "source": [
    "# Strings, Lists and Tuples"
   ]
  },
  {
   "cell_type": "code",
   "execution_count": null,
   "id": "supreme-plaintiff",
   "metadata": {},
   "outputs": [],
   "source": []
  },
  {
   "cell_type": "markdown",
   "id": "experienced-least",
   "metadata": {},
   "source": [
    "# Dictionaries and Sets\n",
    "\n",
    "https://realpython.com/python-sets/\n",
    "\n",
    "- Sets are unordered\n",
    "- Elements are uniq\n",
    "- Elements should be inmutable"
   ]
  },
  {
   "cell_type": "code",
   "execution_count": 11,
   "id": "divided-yukon",
   "metadata": {},
   "outputs": [
    {
     "data": {
      "text/plain": [
       "{2, 4, 5, 6, 8, 10}"
      ]
     },
     "execution_count": 11,
     "metadata": {},
     "output_type": "execute_result"
    }
   ],
   "source": [
    "## The insertion order in sets is not preserved, it orders the elements to easily check for duplicates.\n",
    "\n",
    "ordered_set = set(range(10, 0, -2))\n",
    "ordered_set.add(5)\n",
    "ordered_set"
   ]
  },
  {
   "cell_type": "code",
   "execution_count": 13,
   "id": "consecutive-discipline",
   "metadata": {},
   "outputs": [
    {
     "data": {
      "text/plain": [
       "{2, 4, 5, 6, 8, 10}"
      ]
     },
     "execution_count": 13,
     "metadata": {},
     "output_type": "execute_result"
    }
   ],
   "source": [
    "## It doesn't fail when we insert a duplicated element.\n",
    "\n",
    "ordered_set.add(5)\n",
    "ordered_set"
   ]
  },
  {
   "cell_type": "code",
   "execution_count": 35,
   "id": "vulnerable-demand",
   "metadata": {},
   "outputs": [],
   "source": [
    "## The elements contained by the set should be inmutable.\n",
    "\n",
    "### I am trying to reproduce this behaviours without success. \n",
    "\n",
    "### I think that I need to understand how the implementation is hashing the object, \n",
    "### it should break if the hash changes.\n",
    "class TestElement:\n",
    "    \n",
    "    def __init__(self, value):\n",
    "        self.a = value\n",
    "\n",
    "original_elements = []\n",
    "mutable_set = set([])\n",
    "\n",
    "for i in range(10):\n",
    "    el = TestElement(i)\n",
    "    original_elements.append(el)\n",
    "    mutable_set.add(el)\n",
    "    \n",
    "for el in original_elements:\n",
    "    el.a = el.a + 1"
   ]
  },
  {
   "cell_type": "markdown",
   "id": "every-genius",
   "metadata": {},
   "source": [
    "## Set operations"
   ]
  },
  {
   "cell_type": "markdown",
   "id": "protected-inquiry",
   "metadata": {},
   "source": [
    "# Conditional Execution & Loops"
   ]
  },
  {
   "cell_type": "code",
   "execution_count": null,
   "id": "objective-paint",
   "metadata": {},
   "outputs": [],
   "source": []
  },
  {
   "cell_type": "markdown",
   "id": "detailed-concert",
   "metadata": {},
   "source": [
    "# Comprehensions"
   ]
  },
  {
   "cell_type": "code",
   "execution_count": 12,
   "id": "hairy-insured",
   "metadata": {},
   "outputs": [
    {
     "name": "stdout",
     "output_type": "stream",
     "text": [
      "The type should be a list: <class 'list'>\n"
     ]
    },
    {
     "data": {
      "text/plain": [
       "[0, 1, 4, 9, 16, 25, 36, 49, 64, 81]"
      ]
     },
     "execution_count": 12,
     "metadata": {},
     "output_type": "execute_result"
    }
   ],
   "source": [
    "## Simple comprehensions\n",
    "\n",
    "### This sintax creates a list\n",
    "\n",
    "list_comprenhension = [i**2 for i in range(10)]\n",
    "\n",
    "print(\"The type should be a list: {}\".format(type(list_comprenhension)))\n",
    "\n",
    "list_comprenhension"
   ]
  },
  {
   "cell_type": "code",
   "execution_count": 13,
   "id": "moderate-compromise",
   "metadata": {},
   "outputs": [
    {
     "name": "stdout",
     "output_type": "stream",
     "text": [
      "The type should be a gen: <class 'generator'>\n"
     ]
    },
    {
     "data": {
      "text/plain": [
       "<generator object <genexpr> at 0x7f37a0219190>"
      ]
     },
     "execution_count": 13,
     "metadata": {},
     "output_type": "execute_result"
    }
   ],
   "source": [
    "### This sintax creates a generator\n",
    "\n",
    "generator_comprenhension = (i**2 for i in range(10))\n",
    "\n",
    "print(\"The type should be a generator: {}\".format(type(generator_comprenhension)))\n",
    "\n",
    "generator_comprenhension"
   ]
  },
  {
   "cell_type": "code",
   "execution_count": 15,
   "id": "moving-journey",
   "metadata": {},
   "outputs": [
    {
     "name": "stdout",
     "output_type": "stream",
     "text": [
      "The type should be a generator: <class 'list'>\n"
     ]
    },
    {
     "data": {
      "text/plain": [
       "[0.0, 1.0, 2.0, 3.0, 4.0, 5.0, 6.0, 7.0, 8.0, 9.0]"
      ]
     },
     "execution_count": 15,
     "metadata": {},
     "output_type": "execute_result"
    }
   ],
   "source": [
    "## https://stackoverflow.com/questions/18072759/list-comprehension-on-a-nested-list\n",
    "\n",
    "### Nested comprenhesion\n",
    "\n",
    "nested_comprenhension = [j**0.5 for j in [i**2 for i in range(10)]]\n",
    "\n",
    "print(\"The type should be a list: {}\".format(type(nested_comprenhension)))\n",
    "\n",
    "nested_comprenhension"
   ]
  },
  {
   "cell_type": "markdown",
   "id": "surprising-waters",
   "metadata": {},
   "source": [
    "# Functions"
   ]
  },
  {
   "cell_type": "code",
   "execution_count": null,
   "id": "straight-faith",
   "metadata": {},
   "outputs": [],
   "source": [
    "## Positional arguments"
   ]
  },
  {
   "cell_type": "code",
   "execution_count": null,
   "id": "incoming-while",
   "metadata": {},
   "outputs": [],
   "source": [
    "## Optional arguments"
   ]
  },
  {
   "cell_type": "markdown",
   "id": "important-offer",
   "metadata": {},
   "source": [
    "# Modules"
   ]
  },
  {
   "cell_type": "code",
   "execution_count": null,
   "id": "romance-scenario",
   "metadata": {},
   "outputs": [],
   "source": []
  },
  {
   "cell_type": "markdown",
   "id": "pursuant-boring",
   "metadata": {},
   "source": [
    "# Scopes and Namespaces"
   ]
  },
  {
   "cell_type": "code",
   "execution_count": null,
   "id": "backed-makeup",
   "metadata": {},
   "outputs": [],
   "source": []
  }
 ],
 "metadata": {
  "jupytext": {
   "formats": "ipynb,Rmd"
  },
  "kernelspec": {
   "display_name": "Python 3",
   "language": "python",
   "name": "python3"
  },
  "language_info": {
   "codemirror_mode": {
    "name": "ipython",
    "version": 3
   },
   "file_extension": ".py",
   "mimetype": "text/x-python",
   "name": "python",
   "nbconvert_exporter": "python",
   "pygments_lexer": "ipython3",
   "version": "3.8.5"
  }
 },
 "nbformat": 4,
 "nbformat_minor": 5
}
